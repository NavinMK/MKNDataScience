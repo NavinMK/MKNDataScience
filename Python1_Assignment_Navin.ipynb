{
 "cells": [
  {
   "cell_type": "code",
   "execution_count": 26,
   "metadata": {
    "collapsed": false
   },
   "outputs": [
    {
     "name": "stdout",
     "output_type": "stream",
     "text": [
      "115\n"
     ]
    }
   ],
   "source": [
    "#Divisible by 7 and not multiple by 5 with the number range of 2000 and 3000(exclusive of first and last)\n",
    "num_list = list(range(2000,3000))\n",
    "num_count=0\n",
    "for x in num_list:    \n",
    "    if (x%7 == 0 and  not x%5 == 0 ):\n",
    "        num_count +=1\n",
    "print(num_count)\n",
    "    \n"
   ]
  },
  {
   "cell_type": "code",
   "execution_count": 30,
   "metadata": {
    "collapsed": false
   },
   "outputs": [
    {
     "name": "stdout",
     "output_type": "stream",
     "text": [
      "Enter your first nameNavin\n",
      "Enter your last nameMK\n",
      "KM nivaN\n"
     ]
    }
   ],
   "source": [
    "#Prints Name in reverse\n",
    "fname = input(\"Enter your first name\")\n",
    "lname = input(\"Enter your last name\")\n",
    "print(lname[::-1] + \" \" + fname[::-1])"
   ]
  },
  {
   "cell_type": "code",
   "execution_count": 33,
   "metadata": {
    "collapsed": false
   },
   "outputs": [
    {
     "name": "stdout",
     "output_type": "stream",
     "text": [
      "904.7786842338603\n"
     ]
    }
   ],
   "source": [
    "#Calcluate  volume of sphere using the Formula: V=4/3 * π * r3 for  diameter 12 cm\n",
    "from math import pi\n",
    "def vol_sphere(diameter):\n",
    "   radius = diameter/2\n",
    "   volume = 4/3 * pi * radius ** 3\n",
    "   print(volume)\n",
    "vol_sphere(12)"
   ]
  },
  {
   "cell_type": "code",
   "execution_count": null,
   "metadata": {
    "collapsed": true
   },
   "outputs": [],
   "source": []
  }
 ],
 "metadata": {
  "kernelspec": {
   "display_name": "Python 3",
   "language": "python",
   "name": "python3"
  },
  "language_info": {
   "codemirror_mode": {
    "name": "ipython",
    "version": 3
   },
   "file_extension": ".py",
   "mimetype": "text/x-python",
   "name": "python",
   "nbconvert_exporter": "python",
   "pygments_lexer": "ipython3",
   "version": "3.6.0"
  }
 },
 "nbformat": 4,
 "nbformat_minor": 2
}
